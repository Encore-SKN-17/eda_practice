{
 "cells": [
  {
   "cell_type": "markdown",
   "metadata": {},
   "source": [
    "### 최종 실습 프로젝트\n",
    "- ecommerce_sales_data.csv 파일 활용"
   ]
  },
  {
   "cell_type": "markdown",
   "metadata": {},
   "source": [
    "당신은 한 온라인 쇼핑몰의 데이터 분석가로 고용되었다. 쇼핑몰의 판매 데이터를 분석하여 고객의 구매 패턴을 파악하고, 중요한 인사이트를 도출하는 것이 이번 프로젝트의 목표다. 이를 통해 향후 마케팅 전략을 제시하고자 한다. ecommerce_sales_data.csv 파일을 통해 주어진 데이터는 고객의 주문 기록, 상품 정보, 판매 데이터 등을 포함하고 있다. 주어진 데이터를 분석하여 아래의 질문에 답하라."
   ]
  },
  {
   "cell_type": "markdown",
   "metadata": {},
   "source": [
    "- **데이터 설명**:\n",
    "    - **OrderID**: 주문 ID\n",
    "    - **Product**: 주문한 상품 이름\n",
    "    - **Category**: 상품의 카테고리 (예: Electronics, Clothing 등)\n",
    "    - **Quantity**: 주문 수량\n",
    "    - **Price**: 상품의 가격\n",
    "    - **CustomerID**: 고객 ID\n",
    "    - **BirthDate**: 고객 생일\n",
    "    - **OrderDate**: 주문 날짜\n",
    "    - **Country**: 주문한 고객의 국가\n",
    "    - **DiscountRate**: 할인율"
   ]
  },
  {
   "cell_type": "markdown",
   "metadata": {},
   "source": [
    "1. **데이터 탐색 및 전처리**\n",
    "    1. 데이터셋을 로드하고 상위 5개의 데이터를 출력하세요.\n",
    "    2. 결측값이 있는 열이 있는지 확인하고, 결측값이 있는 경우 적절한 방법으로 처리하세요.\n",
    "    3. 각 열의 데이터 타입을 확인하고, **OrderDate** 열을 datetime 형식으로 변환하세요."
   ]
  },
  {
   "cell_type": "code",
   "execution_count": 23,
   "metadata": {},
   "outputs": [],
   "source": [
    "import numpy as np\n",
    "import pandas as pd\n",
    "import matplotlib.pyplot as plt"
   ]
  },
  {
   "cell_type": "code",
   "execution_count": 24,
   "metadata": {},
   "outputs": [
    {
     "data": {
      "text/html": [
       "<div>\n",
       "<style scoped>\n",
       "    .dataframe tbody tr th:only-of-type {\n",
       "        vertical-align: middle;\n",
       "    }\n",
       "\n",
       "    .dataframe tbody tr th {\n",
       "        vertical-align: top;\n",
       "    }\n",
       "\n",
       "    .dataframe thead th {\n",
       "        text-align: right;\n",
       "    }\n",
       "</style>\n",
       "<table border=\"1\" class=\"dataframe\">\n",
       "  <thead>\n",
       "    <tr style=\"text-align: right;\">\n",
       "      <th></th>\n",
       "      <th>OrderID</th>\n",
       "      <th>Product</th>\n",
       "      <th>Category</th>\n",
       "      <th>Quantity</th>\n",
       "      <th>Price</th>\n",
       "      <th>CustomerID</th>\n",
       "      <th>Birthdate</th>\n",
       "      <th>OrderDate</th>\n",
       "      <th>Country</th>\n",
       "      <th>DiscountRate</th>\n",
       "    </tr>\n",
       "  </thead>\n",
       "  <tbody>\n",
       "    <tr>\n",
       "      <th>0</th>\n",
       "      <td>1</td>\n",
       "      <td>역사책</td>\n",
       "      <td>Books</td>\n",
       "      <td>5</td>\n",
       "      <td>37000</td>\n",
       "      <td>1071</td>\n",
       "      <td>1980-08-08</td>\n",
       "      <td>2024-06-10 17:18</td>\n",
       "      <td>미국</td>\n",
       "      <td>0.14</td>\n",
       "    </tr>\n",
       "    <tr>\n",
       "      <th>1</th>\n",
       "      <td>2</td>\n",
       "      <td>셔츠</td>\n",
       "      <td>Clothing</td>\n",
       "      <td>5</td>\n",
       "      <td>20000</td>\n",
       "      <td>1526</td>\n",
       "      <td>1967-08-09</td>\n",
       "      <td>2023-11-18 18:45</td>\n",
       "      <td>독일</td>\n",
       "      <td>0.29</td>\n",
       "    </tr>\n",
       "    <tr>\n",
       "      <th>2</th>\n",
       "      <td>3</td>\n",
       "      <td>노트북</td>\n",
       "      <td>Electronics</td>\n",
       "      <td>4</td>\n",
       "      <td>8000</td>\n",
       "      <td>1252</td>\n",
       "      <td>1973-04-07</td>\n",
       "      <td>2023-10-15 11:19</td>\n",
       "      <td>중국</td>\n",
       "      <td>0.23</td>\n",
       "    </tr>\n",
       "    <tr>\n",
       "      <th>3</th>\n",
       "      <td>4</td>\n",
       "      <td>자전거</td>\n",
       "      <td>Sports</td>\n",
       "      <td>1</td>\n",
       "      <td>8000</td>\n",
       "      <td>1670</td>\n",
       "      <td>1970-04-08</td>\n",
       "      <td>2024-07-19 2:19</td>\n",
       "      <td>일본</td>\n",
       "      <td>0.20</td>\n",
       "    </tr>\n",
       "    <tr>\n",
       "      <th>4</th>\n",
       "      <td>5</td>\n",
       "      <td>헤드폰</td>\n",
       "      <td>Electronics</td>\n",
       "      <td>3</td>\n",
       "      <td>26000</td>\n",
       "      <td>1838</td>\n",
       "      <td>1992-05-19</td>\n",
       "      <td>2024-01-20 20:34</td>\n",
       "      <td>대한민국</td>\n",
       "      <td>0.09</td>\n",
       "    </tr>\n",
       "    <tr>\n",
       "      <th>...</th>\n",
       "      <td>...</td>\n",
       "      <td>...</td>\n",
       "      <td>...</td>\n",
       "      <td>...</td>\n",
       "      <td>...</td>\n",
       "      <td>...</td>\n",
       "      <td>...</td>\n",
       "      <td>...</td>\n",
       "      <td>...</td>\n",
       "      <td>...</td>\n",
       "    </tr>\n",
       "    <tr>\n",
       "      <th>115</th>\n",
       "      <td>116</td>\n",
       "      <td>스마트워치</td>\n",
       "      <td>Electronics</td>\n",
       "      <td>1</td>\n",
       "      <td>33000</td>\n",
       "      <td>1508</td>\n",
       "      <td>1971-01-02</td>\n",
       "      <td>2024-03-01 16:57</td>\n",
       "      <td>독일</td>\n",
       "      <td>0.20</td>\n",
       "    </tr>\n",
       "    <tr>\n",
       "      <th>116</th>\n",
       "      <td>117</td>\n",
       "      <td>스마트워치</td>\n",
       "      <td>Electronics</td>\n",
       "      <td>4</td>\n",
       "      <td>41000</td>\n",
       "      <td>1645</td>\n",
       "      <td>1975-03-15</td>\n",
       "      <td>2024-01-18 21:37</td>\n",
       "      <td>대한민국</td>\n",
       "      <td>0.09</td>\n",
       "    </tr>\n",
       "    <tr>\n",
       "      <th>117</th>\n",
       "      <td>118</td>\n",
       "      <td>태블릿</td>\n",
       "      <td>Electronics</td>\n",
       "      <td>1</td>\n",
       "      <td>33000</td>\n",
       "      <td>1433</td>\n",
       "      <td>1965-02-01</td>\n",
       "      <td>2024-09-29 12:27</td>\n",
       "      <td>독일</td>\n",
       "      <td>0.09</td>\n",
       "    </tr>\n",
       "    <tr>\n",
       "      <th>118</th>\n",
       "      <td>119</td>\n",
       "      <td>청바지</td>\n",
       "      <td>Clothing</td>\n",
       "      <td>2</td>\n",
       "      <td>43000</td>\n",
       "      <td>1497</td>\n",
       "      <td>1980-04-02</td>\n",
       "      <td>2024-06-10 9:01</td>\n",
       "      <td>독일</td>\n",
       "      <td>0.06</td>\n",
       "    </tr>\n",
       "    <tr>\n",
       "      <th>119</th>\n",
       "      <td>120</td>\n",
       "      <td>과자</td>\n",
       "      <td>Food</td>\n",
       "      <td>1</td>\n",
       "      <td>48000</td>\n",
       "      <td>1951</td>\n",
       "      <td>1989-11-28</td>\n",
       "      <td>2024-06-29 10:28</td>\n",
       "      <td>미국</td>\n",
       "      <td>0.27</td>\n",
       "    </tr>\n",
       "  </tbody>\n",
       "</table>\n",
       "<p>120 rows × 10 columns</p>\n",
       "</div>"
      ],
      "text/plain": [
       "     OrderID Product     Category  Quantity  Price  CustomerID   Birthdate  \\\n",
       "0          1     역사책        Books         5  37000        1071  1980-08-08   \n",
       "1          2      셔츠     Clothing         5  20000        1526  1967-08-09   \n",
       "2          3     노트북  Electronics         4   8000        1252  1973-04-07   \n",
       "3          4     자전거       Sports         1   8000        1670  1970-04-08   \n",
       "4          5     헤드폰  Electronics         3  26000        1838  1992-05-19   \n",
       "..       ...     ...          ...       ...    ...         ...         ...   \n",
       "115      116   스마트워치  Electronics         1  33000        1508  1971-01-02   \n",
       "116      117   스마트워치  Electronics         4  41000        1645  1975-03-15   \n",
       "117      118     태블릿  Electronics         1  33000        1433  1965-02-01   \n",
       "118      119     청바지     Clothing         2  43000        1497  1980-04-02   \n",
       "119      120      과자         Food         1  48000        1951  1989-11-28   \n",
       "\n",
       "            OrderDate Country  DiscountRate  \n",
       "0    2024-06-10 17:18      미국          0.14  \n",
       "1    2023-11-18 18:45      독일          0.29  \n",
       "2    2023-10-15 11:19      중국          0.23  \n",
       "3     2024-07-19 2:19      일본          0.20  \n",
       "4    2024-01-20 20:34    대한민국          0.09  \n",
       "..                ...     ...           ...  \n",
       "115  2024-03-01 16:57      독일          0.20  \n",
       "116  2024-01-18 21:37    대한민국          0.09  \n",
       "117  2024-09-29 12:27      독일          0.09  \n",
       "118   2024-06-10 9:01      독일          0.06  \n",
       "119  2024-06-29 10:28      미국          0.27  \n",
       "\n",
       "[120 rows x 10 columns]"
      ]
     },
     "execution_count": 24,
     "metadata": {},
     "output_type": "execute_result"
    }
   ],
   "source": [
    "df = pd.read_csv('./data/ecommerce_sales_data.csv')\n",
    "df"
   ]
  },
  {
   "cell_type": "code",
   "execution_count": 25,
   "metadata": {},
   "outputs": [
    {
     "name": "stdout",
     "output_type": "stream",
     "text": [
      "<class 'pandas.core.frame.DataFrame'>\n",
      "RangeIndex: 120 entries, 0 to 119\n",
      "Data columns (total 10 columns):\n",
      " #   Column        Non-Null Count  Dtype         \n",
      "---  ------        --------------  -----         \n",
      " 0   OrderID       120 non-null    int64         \n",
      " 1   Product       120 non-null    object        \n",
      " 2   Category      120 non-null    object        \n",
      " 3   Quantity      120 non-null    int64         \n",
      " 4   Price         120 non-null    int64         \n",
      " 5   CustomerID    120 non-null    int64         \n",
      " 6   Birthdate     120 non-null    object        \n",
      " 7   OrderDate     120 non-null    datetime64[ns]\n",
      " 8   Country       120 non-null    object        \n",
      " 9   DiscountRate  120 non-null    object        \n",
      "dtypes: datetime64[ns](1), int64(4), object(5)\n",
      "memory usage: 9.5+ KB\n"
     ]
    }
   ],
   "source": [
    "df.head()\n",
    "df.isnull().sum() \n",
    "\n",
    "df['DiscountRate'].value_counts()\n",
    "df['DiscountRate'] = df['DiscountRate'].fillna('0.20')\n",
    "\n",
    "df['OrderDate'] = pd.to_datetime(df['OrderDate'])\n",
    "df.info()\n"
   ]
  },
  {
   "cell_type": "markdown",
   "metadata": {},
   "source": [
    "2. **매출 분석**\n",
    "    1. **매출액**(총 판매 금액)을 계산하는 새로운 열 `TotalRevenue`를 생성하세요.\n",
    "        - 매출액 = `Quantity` * `Price`\n",
    "    2. 월별 총 매출액을 집계하여 시각화하세요.\n",
    "        - 힌트: `resample()`을 사용하여 월별로 데이터를 집계하세요.\n",
    "    3. 카테고리별로 매출액이 가장 높은 상위 3개의 카테고리를 구하세요.\n",
    "    4. 국가별 총 매출액을 계산하고, 매출액이 가장 높은 5개 국가를 출력하세요."
   ]
  },
  {
   "cell_type": "code",
   "execution_count": 26,
   "metadata": {},
   "outputs": [],
   "source": [
    "df['TotalRevenue'] = df['Quantity'] *df['Price']\n",
    "order_date = df.set_index('OrderDate')"
   ]
  },
  {
   "cell_type": "code",
   "execution_count": 27,
   "metadata": {},
   "outputs": [
    {
     "name": "stdout",
     "output_type": "stream",
     "text": [
      "OrderDate\n",
      "2023-10-31     392000\n",
      "2023-11-30     995000\n",
      "2023-12-31     920000\n",
      "2024-01-31     905000\n",
      "2024-02-29     565000\n",
      "2024-03-31     703000\n",
      "2024-04-30     288000\n",
      "2024-05-31     930000\n",
      "2024-06-30    1365000\n",
      "2024-07-31     712000\n",
      "2024-08-31     635000\n",
      "2024-09-30     319000\n",
      "2024-10-31     190000\n",
      "Freq: ME, Name: TotalRevenue, dtype: int64\n"
     ]
    },
    {
     "name": "stderr",
     "output_type": "stream",
     "text": [
      "C:\\Users\\Playdata\\AppData\\Local\\Temp\\ipykernel_9400\\4127970218.py:1: FutureWarning: 'M' is deprecated and will be removed in a future version, please use 'ME' instead.\n",
      "  monthly_revenue = order_date.resample('M')['TotalRevenue'].sum()\n"
     ]
    }
   ],
   "source": [
    "monthly_revenue = order_date.resample('M')['TotalRevenue'].sum()\n",
    "print(monthly_revenue)"
   ]
  },
  {
   "cell_type": "code",
   "execution_count": 28,
   "metadata": {},
   "outputs": [
    {
     "name": "stdout",
     "output_type": "stream",
     "text": [
      "Figure(600x400)\n",
      "Axes(0.125,0.11;0.775x0.77)\n"
     ]
    },
    {
     "data": {
      "image/png": "[encoded data removed]",
      "text/plain": [
       "<Figure size 600x400 with 1 Axes>"
      ]
     },
     "metadata": {},
     "output_type": "display_data"
    }
   ],
   "source": [
    "x = monthly_revenue.index\n",
    "y = monthly_revenue.values\n",
    "\n",
    "fig = plt.figure(figsize = (6,4), facecolor= 'green')\n",
    "print(fig)\n",
    "ax = plt.gca()\n",
    "ax.plot(x,y)\n",
    "print(ax)\n",
    "\n",
    "plt.title(\"Monthly Sum\")\n",
    "plt.xlabel('X')\n",
    "plt.ylabel('Y')\n",
    "plt.show()"
   ]
  },
  {
   "cell_type": "code",
   "execution_count": 36,
   "metadata": {},
   "outputs": [
    {
     "data": {
      "text/plain": [
       "Category\n",
       "Food           1966000\n",
       "Electronics    1746000\n",
       "Beauty         1493000\n",
       "Name: TotalRevenue, dtype: int64"
      ]
     },
     "execution_count": 36,
     "metadata": {},
     "output_type": "execute_result"
    }
   ],
   "source": [
    "groupby_category = df.groupby(\"Category\")\n",
    "\n",
    "groupby_category['TotalRevenue'].sum().sort_values(ascending= False).head(3)"
   ]
  },
  {
   "cell_type": "code",
   "execution_count": 37,
   "metadata": {},
   "outputs": [
    {
     "data": {
      "text/plain": [
       "Country\n",
       "미국      2238000\n",
       "독일      1973000\n",
       "중국      1766000\n",
       "일본      1523000\n",
       "대한민국    1419000\n",
       "Name: TotalRevenue, dtype: int64"
      ]
     },
     "execution_count": 37,
     "metadata": {},
     "output_type": "execute_result"
    }
   ],
   "source": [
    "groupby_country = df.groupby('Country')\n",
    "groupby_country['TotalRevenue'].sum().sort_values(ascending= False).head()"
   ]
  },
  {
   "cell_type": "markdown",
   "metadata": {},
   "source": [
    "3. **고객 분석**\n",
    "    1. 고객별로 총 매출액을 계산한 후, 상위 5명의 고객을 출력하세요.\n",
    "    2. 주문 횟수가 가장 많은 상위 5명의 고객을 출력하세요.\n",
    "    3. **연령대**에 따라 고객을 분류하고, 각 연령대별로 가장 많이 구매한 상품의 카테고리를 구하세요.\n",
    "        - 힌트: 고객의 연령대는 따로 제공되지 않으므로, 가정 데이터를 추가해 임의로 분류할 수 있습니다."
   ]
  },
  {
   "cell_type": "code",
   "execution_count": 39,
   "metadata": {},
   "outputs": [
    {
     "data": {
      "text/plain": [
       "CustomerID\n",
       "1007    334000\n",
       "1354    245000\n",
       "1141    241000\n",
       "1589    215000\n",
       "1632    192000\n",
       "Name: TotalRevenue, dtype: int64"
      ]
     },
     "execution_count": 39,
     "metadata": {},
     "output_type": "execute_result"
    }
   ],
   "source": [
    "groupby_CustomerID = df.groupby('CustomerID')\n",
    "\n",
    "groupby_CustomerID['TotalRevenue'].sum().sort_values(ascending= False).head()"
   ]
  },
  {
   "cell_type": "code",
   "execution_count": 40,
   "metadata": {},
   "outputs": [
    {
     "data": {
      "text/plain": [
       "CustomerID\n",
       "1007    8\n",
       "1278    7\n",
       "1421    7\n",
       "1141    6\n",
       "1071    5\n",
       "Name: Quantity, dtype: int64"
      ]
     },
     "execution_count": 40,
     "metadata": {},
     "output_type": "execute_result"
    }
   ],
   "source": [
    "groupby_CustomerID['Quantity'].sum().sort_values(ascending= False).head()"
   ]
  },
  {
   "cell_type": "markdown",
   "metadata": {},
   "source": [
    "4. **상품 분석**\n",
    "    1. 가장 많이 판매된 상위 5개의 상품을 출력하세요.\n",
    "    2. **카테고리별**로 가장 많이 판매된 상품을 찾아 출력하세요.\n",
    "    3. **평균 구매 수량**이 가장 높은 상위 3개의 상품을 출력하세요."
   ]
  },
  {
   "cell_type": "code",
   "execution_count": 41,
   "metadata": {},
   "outputs": [
    {
     "data": {
      "text/plain": [
       "Product\n",
       "셔츠     25\n",
       "립스틱    22\n",
       "소설     21\n",
       "커피     20\n",
       "역사책    20\n",
       "Name: Quantity, dtype: int64"
      ]
     },
     "execution_count": 41,
     "metadata": {},
     "output_type": "execute_result"
    }
   ],
   "source": [
    "groupby_product = df.groupby('Product')\n",
    "groupby_product['Quantity'].sum().sort_values(ascending= False).head()"
   ]
  },
  {
   "cell_type": "code",
   "execution_count": 44,
   "metadata": {},
   "outputs": [
    {
     "data": {
      "text/plain": [
       "Product\n",
       "주스      5.0\n",
       "자기계발    5.0\n",
       "요가매트    4.0\n",
       "Name: Quantity, dtype: float64"
      ]
     },
     "execution_count": 44,
     "metadata": {},
     "output_type": "execute_result"
    }
   ],
   "source": [
    "groupby_product['Quantity'].mean().sort_values(ascending= False).head(3)"
   ]
  },
  {
   "cell_type": "markdown",
   "metadata": {},
   "source": [
    "5. **시간 분석**\n",
    "    1. 주문 날짜별로 **주별** 매출액을 계산하고 시각화하세요.\n",
    "    2. 특정 기간(예: 2024년 1월 ~ 2024년 6월) 동안의 매출 추이를 분석하고 시각화하세요.\n",
    "    3. 특정 국가에서 가장 많이 주문한 시간대를 분석하고, 이를 시각화하여 인사이트를 도출하세요."
   ]
  },
  {
   "cell_type": "code",
   "execution_count": 46,
   "metadata": {},
   "outputs": [
    {
     "name": "stdout",
     "output_type": "stream",
     "text": [
      "Figure(600x400)\n",
      "Axes(0.125,0.11;0.775x0.77)\n"
     ]
    },
    {
     "data": {
      "image/png": "[encoded data removed]",
      "text/plain": [
       "<Figure size 600x400 with 1 Axes>"
      ]
     },
     "metadata": {},
     "output_type": "display_data"
    }
   ],
   "source": [
    "weekly_revenue = order_date.resample('W')['TotalRevenue'].sum()\n",
    "x = weekly_revenue.index\n",
    "y = weekly_revenue.values\n",
    "\n",
    "fig = plt.figure(figsize = (6,4), facecolor= 'green')\n",
    "print(fig)\n",
    "ax = plt.gca()\n",
    "ax.plot(x,y)\n",
    "print(ax)\n",
    "\n",
    "plt.title(\"Weekly Sum\")\n",
    "plt.xlabel('X')\n",
    "plt.ylabel('Y')\n",
    "plt.show()"
   ]
  },
  {
   "cell_type": "code",
   "execution_count": 52,
   "metadata": {},
   "outputs": [
    {
     "name": "stdout",
     "output_type": "stream",
     "text": [
      "Figure(600x400)\n",
      "Axes(0.125,0.11;0.775x0.77)\n"
     ]
    },
    {
     "data": {
      "image/png": "[encoded data removed]",
      "text/plain": [
       "<Figure size 600x400 with 1 Axes>"
      ]
     },
     "metadata": {},
     "output_type": "display_data"
    }
   ],
   "source": [
    "con_weekly_revenue = weekly_revenue.iloc[(weekly_revenue.index <= '2024-06') & (weekly_revenue.index >= '2024-01')]\n",
    "x = con_weekly_revenue.index\n",
    "y = con_weekly_revenue.values\n",
    "\n",
    "fig = plt.figure(figsize = (6,4), facecolor= 'green')\n",
    "print(fig)\n",
    "ax = plt.gca()\n",
    "ax.plot(x,y)\n",
    "print(ax)\n",
    "\n",
    "plt.title(\"Weekly Sum\")\n",
    "plt.xlabel('X')\n",
    "plt.ylabel('Y')\n",
    "plt.show()"
   ]
  },
  {
   "cell_type": "code",
   "execution_count": 62,
   "metadata": {},
   "outputs": [],
   "source": [
    "pivot_df = df.pivot_table(index = 'Country', columns = 'OrderDate', values = 'Quantity')\n",
    "korea = pivot_df.loc['대한민국']\n",
    "german = pivot_df.loc['독일']\n",
    "usa = pivot_df.loc['미국']\n",
    "japan = pivot_df.loc['일본']\n",
    "china = pivot_df.loc['중국']\n"
   ]
  },
  {
   "cell_type": "code",
   "execution_count": 70,
   "metadata": {},
   "outputs": [
    {
     "name": "stdout",
     "output_type": "stream",
     "text": [
      "Figure(600x400)\n",
      "Axes(0.125,0.11;0.775x0.77)\n"
     ]
    },
    {
     "data": {
      "image/png": "[encoded data removed]",
      "text/plain": [
       "<Figure size 600x400 with 1 Axes>"
      ]
     },
     "metadata": {},
     "output_type": "display_data"
    }
   ],
   "source": [
    "x = korea.index\n",
    "y = korea.values\n",
    "\n",
    "fig = plt.figure(figsize = (6,4), facecolor= 'green')\n",
    "print(fig)\n",
    "ax = plt.gca()\n",
    "ax.plot(x,y)\n",
    "print(ax)\n",
    "\n",
    "plt.title(\"Korea\")\n",
    "plt.xlabel('X')\n",
    "plt.ylabel('Y')\n",
    "plt.show()"
   ]
  },
  {
   "cell_type": "code",
   "execution_count": 69,
   "metadata": {},
   "outputs": [
    {
     "name": "stdout",
     "output_type": "stream",
     "text": [
      "Figure(600x400)\n",
      "Axes(0.125,0.11;0.775x0.77)\n"
     ]
    },
    {
     "data": {
      "image/png": "[encoded data removed]",
      "text/plain": [
       "<Figure size 600x400 with 1 Axes>"
      ]
     },
     "metadata": {},
     "output_type": "display_data"
    }
   ],
   "source": [
    "x = german.index\n",
    "y = german.values\n",
    "\n",
    "fig = plt.figure(figsize = (6,4), facecolor= 'green')\n",
    "print(fig)\n",
    "ax = plt.gca()\n",
    "ax.plot(x,y)\n",
    "print(ax)\n",
    "\n",
    "plt.title(\"german\")\n",
    "plt.xlabel('X')\n",
    "plt.ylabel('Y')\n",
    "plt.show()"
   ]
  },
  {
   "cell_type": "code",
   "execution_count": null,
   "metadata": {},
   "outputs": [],
   "source": [
    "x = usa.index\n",
    "y = usa.values\n",
    "\n",
    "fig = plt.figure(figsize = (6,4), facecolor= 'green')\n",
    "print(fig)\n",
    "ax = plt.gca()\n",
    "ax.plot(x,y)\n",
    "print(ax)\n",
    "\n",
    "plt.title(\"usa\")\n",
    "plt.xlabel('X')\n",
    "plt.ylabel('Y')\n",
    "plt.show()"
   ]
  },
  {
   "cell_type": "code",
   "execution_count": 68,
   "metadata": {},
   "outputs": [
    {
     "name": "stdout",
     "output_type": "stream",
     "text": [
      "Figure(600x400)\n",
      "Axes(0.125,0.11;0.775x0.77)\n"
     ]
    },
    {
     "data": {
      "image/png": "[encoded data removed]",
      "text/plain": [
       "<Figure size 600x400 with 1 Axes>"
      ]
     },
     "metadata": {},
     "output_type": "display_data"
    }
   ],
   "source": [
    "x = japan.index\n",
    "y = japan.values\n",
    "\n",
    "fig = plt.figure(figsize = (6,4), facecolor= 'green')\n",
    "print(fig)\n",
    "ax = plt.gca()\n",
    "ax.plot(x,y)\n",
    "print(ax)\n",
    "\n",
    "plt.title(\"japan\")\n",
    "plt.xlabel('X')\n",
    "plt.ylabel('Y')\n",
    "plt.show()"
   ]
  },
  {
   "cell_type": "code",
   "execution_count": 67,
   "metadata": {},
   "outputs": [
    {
     "name": "stdout",
     "output_type": "stream",
     "text": [
      "Figure(600x400)\n",
      "Axes(0.125,0.11;0.775x0.77)\n"
     ]
    },
    {
     "data": {
      "image/png": "[encoded data removed]",
      "text/plain": [
       "<Figure size 600x400 with 1 Axes>"
      ]
     },
     "metadata": {},
     "output_type": "display_data"
    }
   ],
   "source": [
    "x = china.index\n",
    "y = china.values\n",
    "\n",
    "fig = plt.figure(figsize = (6,4), facecolor= 'green')\n",
    "print(fig)\n",
    "ax = plt.gca()\n",
    "ax.plot(x,y)\n",
    "print(ax)\n",
    "\n",
    "plt.title(\"china\")\n",
    "plt.xlabel('X')\n",
    "plt.ylabel('Y')\n",
    "plt.show()"
   ]
  },
  {
   "cell_type": "markdown",
   "metadata": {},
   "source": [
    "6. **추가 분석**\n",
    "    1. 고객의 **재구매율**을 분석하세요.\n",
    "        - 재구매율 = 한 고객이 여러 번 주문한 비율\n",
    "    2. 상품 카테고리별 **할인**을 적용한 판매 데이터를 사용하여 할인율이 높은 카테고리의 매출액을 분석하세요."
   ]
  },
  {
   "cell_type": "code",
   "execution_count": 73,
   "metadata": {},
   "outputs": [
    {
     "name": "stdout",
     "output_type": "stream",
     "text": [
      "0.08108108108108109\n"
     ]
    }
   ],
   "source": [
    "order_counts = df.groupby('CustomerID').size()\n",
    "repurchase = order_counts[order_counts > 1]\n",
    "\n",
    "print(len(repurchase) / len(order_counts))"
   ]
  }
 ],
 "metadata": {
  "kernelspec": {
   "display_name": "pystudy_env",
   "language": "python",
   "name": "python3"
  },
  "language_info": {
   "codemirror_mode": {
    "name": "ipython",
    "version": 3
   },
   "file_extension": ".py",
   "mimetype": "text/x-python",
   "name": "python",
   "nbconvert_exporter": "python",
   "pygments_lexer": "ipython3",
   "version": "3.12.11"
  }
 },
 "nbformat": 4,
 "nbformat_minor": 2
}
