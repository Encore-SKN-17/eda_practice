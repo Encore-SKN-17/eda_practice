{
 "cells": [
  {
   "cell_type": "markdown",
   "metadata": {},
   "source": [
    "### 최종 실습 프로젝트\n",
    "- ecommerce_sales_data.csv 파일 활용"
   ]
  },
  {
   "cell_type": "markdown",
   "metadata": {},
   "source": [
    "당신은 한 온라인 쇼핑몰의 데이터 분석가로 고용되었다. 쇼핑몰의 판매 데이터를 분석하여 고객의 구매 패턴을 파악하고, 중요한 인사이트를 도출하는 것이 이번 프로젝트의 목표다. 이를 통해 향후 마케팅 전략을 제시하고자 한다. ecommerce_sales_data.csv 파일을 통해 주어진 데이터는 고객의 주문 기록, 상품 정보, 판매 데이터 등을 포함하고 있다. 주어진 데이터를 분석하여 아래의 질문에 답하라."
   ]
  },
  {
   "cell_type": "markdown",
   "metadata": {},
   "source": [
    "- **데이터 설명**:\n",
    "    - **OrderID**: 주문 ID\n",
    "    - **Product**: 주문한 상품 이름\n",
    "    - **Category**: 상품의 카테고리 (예: Electronics, Clothing 등)\n",
    "    - **Quantity**: 주문 수량\n",
    "    - **Price**: 상품의 가격\n",
    "    - **CustomerID**: 고객 ID\n",
    "    - **BirthDate**: 고객 생일\n",
    "    - **OrderDate**: 주문 날짜\n",
    "    - **Country**: 주문한 고객의 국가\n",
    "    - **DiscountRate**: 할인율"
   ]
  },
  {
   "cell_type": "code",
   "execution_count": 168,
   "metadata": {},
   "outputs": [],
   "source": [
    "import numpy as np\n",
    "import pandas as pd\n",
    "import matplotlib.pyplot as plt"
   ]
  },
  {
   "cell_type": "markdown",
   "metadata": {},
   "source": [
    "1. **데이터 탐색 및 전처리**\n",
    "    1. 데이터셋을 로드하고 상위 5개의 데이터를 출력하세요.\n",
    "    2. 결측값이 있는 열이 있는지 확인하고, 결측값이 있는 경우 적절한 방법으로 처리하세요.\n",
    "    3. 각 열의 데이터 타입을 확인하고, **OrderDate** 열을 datetime 형식으로 변환하세요."
   ]
  },
  {
   "cell_type": "code",
   "execution_count": null,
   "metadata": {},
   "outputs": [
    {
     "data": {
      "text/html": [
       "<div>\n",
       "<style scoped>\n",
       "    .dataframe tbody tr th:only-of-type {\n",
       "        vertical-align: middle;\n",
       "    }\n",
       "\n",
       "    .dataframe tbody tr th {\n",
       "        vertical-align: top;\n",
       "    }\n",
       "\n",
       "    .dataframe thead th {\n",
       "        text-align: right;\n",
       "    }\n",
       "</style>\n",
       "<table border=\"1\" class=\"dataframe\">\n",
       "  <thead>\n",
       "    <tr style=\"text-align: right;\">\n",
       "      <th></th>\n",
       "      <th>OrderID</th>\n",
       "      <th>Product</th>\n",
       "      <th>Category</th>\n",
       "      <th>Quantity</th>\n",
       "      <th>Price</th>\n",
       "      <th>CustomerID</th>\n",
       "      <th>Birthdate</th>\n",
       "      <th>OrderDate</th>\n",
       "      <th>Country</th>\n",
       "      <th>DiscountRate</th>\n",
       "    </tr>\n",
       "  </thead>\n",
       "  <tbody>\n",
       "    <tr>\n",
       "      <th>0</th>\n",
       "      <td>1</td>\n",
       "      <td>역사책</td>\n",
       "      <td>Books</td>\n",
       "      <td>5</td>\n",
       "      <td>37000</td>\n",
       "      <td>1071</td>\n",
       "      <td>1980-08-08</td>\n",
       "      <td>2024-06-10 17:18</td>\n",
       "      <td>미국</td>\n",
       "      <td>0.14</td>\n",
       "    </tr>\n",
       "    <tr>\n",
       "      <th>1</th>\n",
       "      <td>2</td>\n",
       "      <td>셔츠</td>\n",
       "      <td>Clothing</td>\n",
       "      <td>5</td>\n",
       "      <td>20000</td>\n",
       "      <td>1526</td>\n",
       "      <td>1967-08-09</td>\n",
       "      <td>2023-11-18 18:45</td>\n",
       "      <td>독일</td>\n",
       "      <td>0.29</td>\n",
       "    </tr>\n",
       "    <tr>\n",
       "      <th>2</th>\n",
       "      <td>3</td>\n",
       "      <td>노트북</td>\n",
       "      <td>Electronics</td>\n",
       "      <td>4</td>\n",
       "      <td>8000</td>\n",
       "      <td>1252</td>\n",
       "      <td>1973-04-07</td>\n",
       "      <td>2023-10-15 11:19</td>\n",
       "      <td>중국</td>\n",
       "      <td>0.23</td>\n",
       "    </tr>\n",
       "    <tr>\n",
       "      <th>3</th>\n",
       "      <td>4</td>\n",
       "      <td>자전거</td>\n",
       "      <td>Sports</td>\n",
       "      <td>1</td>\n",
       "      <td>8000</td>\n",
       "      <td>1670</td>\n",
       "      <td>1970-04-08</td>\n",
       "      <td>2024-07-19 2:19</td>\n",
       "      <td>일본</td>\n",
       "      <td>0.20</td>\n",
       "    </tr>\n",
       "    <tr>\n",
       "      <th>4</th>\n",
       "      <td>5</td>\n",
       "      <td>헤드폰</td>\n",
       "      <td>Electronics</td>\n",
       "      <td>3</td>\n",
       "      <td>26000</td>\n",
       "      <td>1838</td>\n",
       "      <td>1992-05-19</td>\n",
       "      <td>2024-01-20 20:34</td>\n",
       "      <td>대한민국</td>\n",
       "      <td>0.09</td>\n",
       "    </tr>\n",
       "  </tbody>\n",
       "</table>\n",
       "</div>"
      ],
      "text/plain": [
       "   OrderID Product     Category  Quantity  Price  CustomerID   Birthdate  \\\n",
       "0        1     역사책        Books         5  37000        1071  1980-08-08   \n",
       "1        2      셔츠     Clothing         5  20000        1526  1967-08-09   \n",
       "2        3     노트북  Electronics         4   8000        1252  1973-04-07   \n",
       "3        4     자전거       Sports         1   8000        1670  1970-04-08   \n",
       "4        5     헤드폰  Electronics         3  26000        1838  1992-05-19   \n",
       "\n",
       "          OrderDate Country  DiscountRate  \n",
       "0  2024-06-10 17:18      미국          0.14  \n",
       "1  2023-11-18 18:45      독일          0.29  \n",
       "2  2023-10-15 11:19      중국          0.23  \n",
       "3   2024-07-19 2:19      일본          0.20  \n",
       "4  2024-01-20 20:34    대한민국          0.09  "
      ]
     },
     "metadata": {},
     "output_type": "display_data"
    },
    {
     "name": "stdout",
     "output_type": "stream",
     "text": [
      "<class 'pandas.core.frame.DataFrame'>\n",
      "RangeIndex: 120 entries, 0 to 119\n",
      "Data columns (total 10 columns):\n",
      " #   Column        Non-Null Count  Dtype  \n",
      "---  ------        --------------  -----  \n",
      " 0   OrderID       120 non-null    int64  \n",
      " 1   Product       120 non-null    object \n",
      " 2   Category      120 non-null    object \n",
      " 3   Quantity      120 non-null    int64  \n",
      " 4   Price         120 non-null    int64  \n",
      " 5   CustomerID    120 non-null    int64  \n",
      " 6   Birthdate     120 non-null    object \n",
      " 7   OrderDate     120 non-null    object \n",
      " 8   Country       120 non-null    object \n",
      " 9   DiscountRate  119 non-null    float64\n",
      "dtypes: float64(1), int64(4), object(5)\n",
      "memory usage: 9.5+ KB\n",
      "None\n",
      "<class 'pandas.core.frame.DataFrame'>\n",
      "RangeIndex: 120 entries, 0 to 119\n",
      "Data columns (total 10 columns):\n",
      " #   Column        Non-Null Count  Dtype  \n",
      "---  ------        --------------  -----  \n",
      " 0   OrderID       120 non-null    int64  \n",
      " 1   Product       120 non-null    object \n",
      " 2   Category      120 non-null    object \n",
      " 3   Quantity      120 non-null    int64  \n",
      " 4   Price         120 non-null    int64  \n",
      " 5   CustomerID    120 non-null    int64  \n",
      " 6   Birthdate     120 non-null    object \n",
      " 7   OrderDate     120 non-null    object \n",
      " 8   Country       120 non-null    object \n",
      " 9   DiscountRate  120 non-null    float64\n",
      "dtypes: float64(1), int64(4), object(5)\n",
      "memory usage: 9.5+ KB\n",
      "None\n"
     ]
    }
   ],
   "source": [
    "df = pd.read_csv('./data/ecommerce_sales_data.csv')\n",
    "\n",
    "display(df.head(5))\n",
    "\n",
    "print(df.info())\n",
    "\n",
    "df.loc[df['DiscountRate'].isnull(), 'DiscountRate'] = 0\n",
    "\n",
    "print(df.info())\n",
    "\n"
   ]
  },
  {
   "cell_type": "code",
   "execution_count": 16,
   "metadata": {},
   "outputs": [
    {
     "name": "stdout",
     "output_type": "stream",
     "text": [
      "OrderID           int64\n",
      "Product          object\n",
      "Category         object\n",
      "Quantity          int64\n",
      "Price             int64\n",
      "CustomerID        int64\n",
      "Birthdate        object\n",
      "OrderDate        object\n",
      "Country          object\n",
      "DiscountRate    float64\n",
      "TotalRevenue      int64\n",
      "dtype: object\n",
      "OrderID                  int64\n",
      "Product                 object\n",
      "Category                object\n",
      "Quantity                 int64\n",
      "Price                    int64\n",
      "CustomerID               int64\n",
      "Birthdate               object\n",
      "OrderDate       datetime64[ns]\n",
      "Country                 object\n",
      "DiscountRate           float64\n",
      "TotalRevenue             int64\n",
      "dtype: object\n"
     ]
    }
   ],
   "source": [
    "print(df.dtypes)\n",
    "df['OrderDate'] = pd.to_datetime(df['OrderDate'])\n",
    "\n",
    "print(df.dtypes)"
   ]
  },
  {
   "cell_type": "markdown",
   "metadata": {},
   "source": [
    "2. **매출 분석**\n",
    "    1. **매출액**(총 판매 금액)을 계산하는 새로운 열 `TotalRevenue`를 생성하세요.\n",
    "        - 매출액 = `Quantity` * `Price`\n",
    "    2. 월별 총 매출액을 집계하여 시각화하세요.\n",
    "        - 힌트: `resample()`을 사용하여 월별로 데이터를 집계하세요.\n",
    "    3. 카테고리별로 매출액이 가장 높은 상위 3개의 카테고리를 구하세요.\n",
    "    4. 국가별 총 매출액을 계산하고, 매출액이 가장 높은 5개 국가를 출력하세요."
   ]
  },
  {
   "cell_type": "code",
   "execution_count": 41,
   "metadata": {},
   "outputs": [
    {
     "name": "stdout",
     "output_type": "stream",
     "text": [
      "OrderDate\n",
      "2023-10-31     392000\n",
      "2023-11-30     995000\n",
      "2023-12-31     920000\n",
      "2024-01-31     905000\n",
      "2024-02-29     565000\n",
      "2024-03-31     703000\n",
      "2024-04-30     288000\n",
      "2024-05-31     930000\n",
      "2024-06-30    1365000\n",
      "2024-07-31     712000\n",
      "2024-08-31     635000\n",
      "2024-09-30     319000\n",
      "2024-10-31     190000\n",
      "Freq: ME, Name: TotalRevenue, dtype: int64\n",
      "Category\n",
      "Food           1966000\n",
      "Electronics    1746000\n",
      "Beauty         1493000\n",
      "Name: TotalRevenue, dtype: int64\n"
     ]
    },
    {
     "data": {
      "text/plain": [
       "Index(['미국', '독일', '중국', '일본', '대한민국'], dtype='object', name='Country')"
      ]
     },
     "execution_count": 41,
     "metadata": {},
     "output_type": "execute_result"
    }
   ],
   "source": [
    "# df['TotalRevenue'] = df['Quantity'] * df['Price']\n",
    "\n",
    "day_df = df.set_index(df['OrderDate'])\n",
    "\n",
    "print(day_df['TotalRevenue'].resample('ME').sum())\n",
    "\n",
    "cat_group = df.groupby('Category')\n",
    "\n",
    "print(cat_group['TotalRevenue'].agg('sum').sort_values(ascending=False).head(3))\n",
    "\n",
    "country_group = df.groupby('Country')\n",
    "\n",
    "country_group['TotalRevenue'].agg('sum').sort_values(ascending=False).head(5).index\n"
   ]
  },
  {
   "cell_type": "markdown",
   "metadata": {},
   "source": [
    "3. **고객 분석**\n",
    "    1. 고객별로 총 매출액을 계산한 후, 상위 5명의 고객을 출력하세요.\n",
    "    2. 주문 횟수가 가장 많은 상위 5명의 고객을 출력하세요.\n",
    "    3. **연령대**에 따라 고객을 분류하고, 각 연령대별로 가장 많이 구매한 상품의 카테고리를 구하세요.\n",
    "        - 힌트: 고객의 연령대는 따로 제공되지 않으므로, 가정 데이터를 추가해 임의로 분류할 수 있습니다."
   ]
  },
  {
   "cell_type": "code",
   "execution_count": null,
   "metadata": {},
   "outputs": [
    {
     "name": "stdout",
     "output_type": "stream",
     "text": [
      "            TotalRevenue\n",
      "CustomerID              \n",
      "1007              334000\n",
      "1354              245000\n",
      "1141              241000\n",
      "1589              215000\n",
      "1632              192000\n",
      "CustomerID\n",
      "1007    2\n",
      "1038    2\n",
      "1141    2\n",
      "1278    2\n",
      "1421    2\n",
      "dtype: int64\n"
     ]
    },
    {
     "data": {
      "text/plain": [
       "Year\n",
       "1960              Beauty\n",
       "1970               Books\n",
       "1980     [Beauty, Books]\n",
       "1990                Food\n",
       "2000    [Beauty, Sports]\n",
       "Name: Category, dtype: object"
      ]
     },
     "execution_count": 149,
     "metadata": {},
     "output_type": "execute_result"
    }
   ],
   "source": [
    "customer_group = df.groupby('CustomerID')\n",
    "\n",
    "print(customer_group.agg({'TotalRevenue': 'sum'}).sort_values('TotalRevenue', ascending=False).head(5))\n",
    "\n",
    "print(customer_group.agg('size').sort_values(ascending=False).head(5))\n",
    "\n",
    "age_df = df.copy()\n",
    "age_df['Birthdate'] = pd.to_datetime(age_df['Birthdate'])\n",
    "age_df['Year'] = age_df['Birthdate'].map(lambda x:x.year // 10 * 10)\n",
    "# age_group = age_df.groupby(['Year', 'Category'])\n",
    "\n",
    "# age_group = age_group.size()\n",
    "# print(age_group)\n",
    "age_group = age_df.groupby('Year')['Category'].agg(lambda x:x.mode())\n",
    "age_group\n",
    "\n",
    "# age_df.groupby('Year')['Category'].value_counts(sort=True, ascending=False)\n",
    "\n",
    "# age_df['Category'].resample('YE').count()"
   ]
  },
  {
   "cell_type": "markdown",
   "metadata": {},
   "source": [
    "4. **상품 분석**\n",
    "    1. 가장 많이 판매된 상위 5개의 상품을 출력하세요.\n",
    "    2. **카테고리별**로 가장 많이 판매된 상품을 찾아 출력하세요.\n",
    "    3. **평균 구매 수량**이 가장 높은 상위 3개의 상품을 출력하세요."
   ]
  },
  {
   "cell_type": "code",
   "execution_count": 164,
   "metadata": {},
   "outputs": [
    {
     "name": "stdout",
     "output_type": "stream",
     "text": [
      "Product\n",
      "역사책    7\n",
      "셔츠     7\n",
      "립스틱    7\n",
      "소설     7\n",
      "화장품    6\n",
      "Name: count, dtype: int64\n",
      "Category\n",
      "Beauty               립스틱\n",
      "Books          [소설, 역사책]\n",
      "Clothing              셔츠\n",
      "Electronics          노트북\n",
      "Food           [과자, 초콜릿]\n",
      "Sports               축구공\n",
      "Name: Product, dtype: object\n"
     ]
    },
    {
     "data": {
      "text/plain": [
       "Index(['셔츠', '립스틱', '소설'], dtype='object', name='Product')"
      ]
     },
     "execution_count": 164,
     "metadata": {},
     "output_type": "execute_result"
    }
   ],
   "source": [
    "print(df['Product'].value_counts().sort_values(ascending=False).head(5))\n",
    "\n",
    "print(cat_group['Product'].agg(lambda x:x.mode()))\n",
    "\n",
    "product_group = df.groupby('Product')\n",
    "\n",
    "product_group['Quantity'].sum().sort_values(ascending=False).head(3).index\n"
   ]
  },
  {
   "cell_type": "markdown",
   "metadata": {},
   "source": [
    "5. **시간 분석**\n",
    "    1. 주문 날짜별로 **주별** 매출액을 계산하고 시각화하세요.\n",
    "    2. 특정 기간(예: 2024년 1월 ~ 2024년 6월) 동안의 매출 추이를 분석하고 시각화하세요.\n",
    "    3. 특정 국가에서 가장 많이 주문한 시간대를 분석하고, 이를 시각화하여 인사이트를 도출하세요."
   ]
  },
  {
   "cell_type": "code",
   "execution_count": null,
   "metadata": {},
   "outputs": [
    {
     "name": "stdout",
     "output_type": "stream",
     "text": [
      "Country  OrderDate          \n",
      "대한민국     2023-10-08 05:49:00    1\n",
      "         2023-12-26 10:09:00    1\n",
      "         2024-01-04 11:13:00    1\n",
      "         2024-01-09 08:49:00    1\n",
      "         2024-01-18 21:37:00    1\n",
      "                               ..\n",
      "중국       2024-07-26 23:55:00    1\n",
      "         2024-08-23 02:17:00    1\n",
      "         2024-09-06 01:14:00    1\n",
      "         2024-09-13 07:15:00    1\n",
      "         2024-09-16 17:13:00    1\n",
      "Name: count, Length: 120, dtype: int64\n"
     ]
    },
    {
     "data": {
      "image/png": "[encoded data removed]",
      "text/plain": [
       "<Figure size 640x480 with 3 Axes>"
      ]
     },
     "metadata": {},
     "output_type": "display_data"
    }
   ],
   "source": [
    "from datetime import datetime\n",
    "fig, axes = plt.subplots(1, 3)\n",
    "\n",
    "week_df = df.set_index(df['OrderDate'])\n",
    "week_df = week_df.resample('W')\n",
    "\n",
    "week_revenue = week_df[\"TotalRevenue\"].sum()\n",
    "\n",
    "axes[0].plot(week_revenue.index, week_revenue.values)\n",
    "axes[0].set_xlabel('Date')\n",
    "axes[0].set_ylabel('Revenue')\n",
    "\n",
    "\n",
    "axes[1].plot(week_revenue.index, week_revenue.values)\n",
    "axes[1].set_xlabel('Date')\n",
    "axes[1].set_ylabel('Revenue')\n",
    "axes[1].set_xlim(datetime(2024, 1, 1), datetime(2024, 6, 30))\n",
    "\n",
    "# plt.show()\n"
   ]
  },
  {
   "cell_type": "code",
   "execution_count": 192,
   "metadata": {},
   "outputs": [
    {
     "name": "stdout",
     "output_type": "stream",
     "text": [
      "Country  OrderDate          \n",
      "대한민국     2023-10-08 05:49:00    1\n",
      "         2023-12-26 10:09:00    1\n",
      "         2024-01-04 11:13:00    1\n",
      "         2024-01-09 08:49:00    1\n",
      "         2024-01-18 21:37:00    1\n",
      "                               ..\n",
      "중국       2024-07-26 23:55:00    1\n",
      "         2024-08-23 02:17:00    1\n",
      "         2024-09-06 01:14:00    1\n",
      "         2024-09-13 07:15:00    1\n",
      "         2024-09-16 17:13:00    1\n",
      "Name: count, Length: 120, dtype: int64\n"
     ]
    }
   ],
   "source": [
    "\n",
    "country_group = df.groupby('Country')\n",
    "print(country_group['OrderDate'].value_counts())\n",
    "\n"
   ]
  },
  {
   "cell_type": "markdown",
   "metadata": {},
   "source": [
    "6. **추가 분석**\n",
    "    1. 고객의 **재구매율**을 분석하세요.\n",
    "        - 재구매율 = 한 고객이 여러 번 주문한 비율\n",
    "    2. 상품 카테고리별 **할인**을 적용한 판매 데이터를 사용하여 할인율이 높은 카테고리의 매출액을 분석하세요."
   ]
  },
  {
   "cell_type": "code",
   "execution_count": 218,
   "metadata": {},
   "outputs": [
    {
     "name": "stdout",
     "output_type": "stream",
     "text": [
      "0.08108108108108109\n"
     ]
    },
    {
     "data": {
      "text/plain": [
       "Category\n",
       "Beauty         0.186522\n",
       "Books          0.170000\n",
       "Clothing       0.154000\n",
       "Electronics    0.175789\n",
       "Food           0.166522\n",
       "Sports         0.179444\n",
       "Name: DiscountRate, dtype: float64"
      ]
     },
     "execution_count": 218,
     "metadata": {},
     "output_type": "execute_result"
    }
   ],
   "source": [
    "print((customer_group.size() > 1).sum() / len(customer_group))\n",
    "\n",
    "df.loc[:, ['Category', 'DiscountRate', 'TotalRevenue']]\n",
    "\n",
    "cat_group['DiscountRate'].mean()\n",
    "\n",
    "# plt.show()\n"
   ]
  }
 ],
 "metadata": {
  "kernelspec": {
   "display_name": "pystudy_env",
   "language": "python",
   "name": "python3"
  },
  "language_info": {
   "codemirror_mode": {
    "name": "ipython",
    "version": 3
   },
   "file_extension": ".py",
   "mimetype": "text/x-python",
   "name": "python",
   "nbconvert_exporter": "python",
   "pygments_lexer": "ipython3",
   "version": "3.12.11"
  }
 },
 "nbformat": 4,
 "nbformat_minor": 2
}
