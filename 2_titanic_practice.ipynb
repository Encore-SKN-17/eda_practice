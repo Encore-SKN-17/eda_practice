{
 "cells": [
  {
   "cell_type": "markdown",
   "metadata": {},
   "source": [
    "##### [실습] titanic 승객 데이터 활용"
   ]
  },
  {
   "cell_type": "code",
   "execution_count": 162,
   "metadata": {},
   "outputs": [],
   "source": [
    "import pandas as pd\n",
    "import numpy as np"
   ]
  },
  {
   "cell_type": "markdown",
   "metadata": {},
   "source": [
    "**컬럼 설명** \n",
    "- PassengerId - 승객 고유번호\n",
    "- Survived - 생존유무(target 값) (0 = 사망, 1 = 생존)\n",
    "- Pclass - 티켓 클래스 (1 = 1st, 2 = 2nd, 3 = 3rd)\n",
    "- Name - 탑승객 성명\n",
    "- Sex - 성별 (male: 남성, female: 여성)\n",
    "- Age - 나이(세)\n",
    "- SibSp - 함께 탑승한 형제자매, 배우자 수 총합\n",
    "- Parch - 함께 탑승한 부모, 자녀 수 총합\n",
    "- Ticket - 티켓 넘버\n",
    "- Fare - 탑승 요금\n",
    "- Cabin - 객실 넘버\n",
    "- Embarked - 탑승 항구 (C: Cherbourg, Q: Queenstown, S: Southampton)"
   ]
  },
  {
   "cell_type": "code",
   "execution_count": 163,
   "metadata": {},
   "outputs": [
    {
     "data": {
      "text/html": [
       "<div>\n",
       "<style scoped>\n",
       "    .dataframe tbody tr th:only-of-type {\n",
       "        vertical-align: middle;\n",
       "    }\n",
       "\n",
       "    .dataframe tbody tr th {\n",
       "        vertical-align: top;\n",
       "    }\n",
       "\n",
       "    .dataframe thead th {\n",
       "        text-align: right;\n",
       "    }\n",
       "</style>\n",
       "<table border=\"1\" class=\"dataframe\">\n",
       "  <thead>\n",
       "    <tr style=\"text-align: right;\">\n",
       "      <th></th>\n",
       "      <th>PassengerId</th>\n",
       "      <th>Survived</th>\n",
       "      <th>Pclass</th>\n",
       "      <th>Age</th>\n",
       "      <th>SibSp</th>\n",
       "      <th>Parch</th>\n",
       "      <th>Fare</th>\n",
       "    </tr>\n",
       "  </thead>\n",
       "  <tbody>\n",
       "    <tr>\n",
       "      <th>count</th>\n",
       "      <td>891.000000</td>\n",
       "      <td>891.000000</td>\n",
       "      <td>891.000000</td>\n",
       "      <td>714.000000</td>\n",
       "      <td>891.000000</td>\n",
       "      <td>891.000000</td>\n",
       "      <td>891.000000</td>\n",
       "    </tr>\n",
       "    <tr>\n",
       "      <th>mean</th>\n",
       "      <td>446.000000</td>\n",
       "      <td>0.383838</td>\n",
       "      <td>2.308642</td>\n",
       "      <td>29.699118</td>\n",
       "      <td>0.523008</td>\n",
       "      <td>0.381594</td>\n",
       "      <td>32.204208</td>\n",
       "    </tr>\n",
       "    <tr>\n",
       "      <th>std</th>\n",
       "      <td>257.353842</td>\n",
       "      <td>0.486592</td>\n",
       "      <td>0.836071</td>\n",
       "      <td>14.526497</td>\n",
       "      <td>1.102743</td>\n",
       "      <td>0.806057</td>\n",
       "      <td>49.693429</td>\n",
       "    </tr>\n",
       "    <tr>\n",
       "      <th>min</th>\n",
       "      <td>1.000000</td>\n",
       "      <td>0.000000</td>\n",
       "      <td>1.000000</td>\n",
       "      <td>0.420000</td>\n",
       "      <td>0.000000</td>\n",
       "      <td>0.000000</td>\n",
       "      <td>0.000000</td>\n",
       "    </tr>\n",
       "    <tr>\n",
       "      <th>25%</th>\n",
       "      <td>223.500000</td>\n",
       "      <td>0.000000</td>\n",
       "      <td>2.000000</td>\n",
       "      <td>20.125000</td>\n",
       "      <td>0.000000</td>\n",
       "      <td>0.000000</td>\n",
       "      <td>7.910400</td>\n",
       "    </tr>\n",
       "    <tr>\n",
       "      <th>50%</th>\n",
       "      <td>446.000000</td>\n",
       "      <td>0.000000</td>\n",
       "      <td>3.000000</td>\n",
       "      <td>28.000000</td>\n",
       "      <td>0.000000</td>\n",
       "      <td>0.000000</td>\n",
       "      <td>14.454200</td>\n",
       "    </tr>\n",
       "    <tr>\n",
       "      <th>75%</th>\n",
       "      <td>668.500000</td>\n",
       "      <td>1.000000</td>\n",
       "      <td>3.000000</td>\n",
       "      <td>38.000000</td>\n",
       "      <td>1.000000</td>\n",
       "      <td>0.000000</td>\n",
       "      <td>31.000000</td>\n",
       "    </tr>\n",
       "    <tr>\n",
       "      <th>max</th>\n",
       "      <td>891.000000</td>\n",
       "      <td>1.000000</td>\n",
       "      <td>3.000000</td>\n",
       "      <td>80.000000</td>\n",
       "      <td>8.000000</td>\n",
       "      <td>6.000000</td>\n",
       "      <td>512.329200</td>\n",
       "    </tr>\n",
       "  </tbody>\n",
       "</table>\n",
       "</div>"
      ],
      "text/plain": [
       "       PassengerId    Survived      Pclass         Age       SibSp  \\\n",
       "count   891.000000  891.000000  891.000000  714.000000  891.000000   \n",
       "mean    446.000000    0.383838    2.308642   29.699118    0.523008   \n",
       "std     257.353842    0.486592    0.836071   14.526497    1.102743   \n",
       "min       1.000000    0.000000    1.000000    0.420000    0.000000   \n",
       "25%     223.500000    0.000000    2.000000   20.125000    0.000000   \n",
       "50%     446.000000    0.000000    3.000000   28.000000    0.000000   \n",
       "75%     668.500000    1.000000    3.000000   38.000000    1.000000   \n",
       "max     891.000000    1.000000    3.000000   80.000000    8.000000   \n",
       "\n",
       "            Parch        Fare  \n",
       "count  891.000000  891.000000  \n",
       "mean     0.381594   32.204208  \n",
       "std      0.806057   49.693429  \n",
       "min      0.000000    0.000000  \n",
       "25%      0.000000    7.910400  \n",
       "50%      0.000000   14.454200  \n",
       "75%      0.000000   31.000000  \n",
       "max      6.000000  512.329200  "
      ]
     },
     "execution_count": 163,
     "metadata": {},
     "output_type": "execute_result"
    }
   ],
   "source": [
    "# titanic.csv 파일 로드\n",
    "data = pd.read_csv('./data/titanic.csv')\n",
    "df = pd.DataFrame(data)\n",
    "# titanic 데이터셋의 메타 데이터 확인\n",
    "\n",
    "df.describe()"
   ]
  },
  {
   "cell_type": "markdown",
   "metadata": {},
   "source": [
    "- 기초문제"
   ]
  },
  {
   "cell_type": "code",
   "execution_count": 164,
   "metadata": {},
   "outputs": [
    {
     "name": "stdout",
     "output_type": "stream",
     "text": [
      "생존자 수 : 342 , 사망자 수 : 549\n"
     ]
    }
   ],
   "source": [
    "# 1. 전체 승객 중 생존자의 수와 사망자의 수를 구하여 출력\n",
    "survival_num = len(df[df['Survived']==1])\n",
    "death_num = len(df[df['Survived']==0])\n",
    "\n",
    "print(f'생존자 수 : {survival_num} , 사망자 수 : {death_num}')"
   ]
  },
  {
   "cell_type": "code",
   "execution_count": 165,
   "metadata": {},
   "outputs": [
    {
     "name": "stdout",
     "output_type": "stream",
     "text": [
      "29.69911764705882\n"
     ]
    }
   ],
   "source": [
    "# 2. 승객 나이의 평균 출력\n",
    "print(df['Age'].mean())"
   ]
  },
  {
   "cell_type": "code",
   "execution_count": 166,
   "metadata": {},
   "outputs": [
    {
     "name": "stdout",
     "output_type": "stream",
     "text": [
      "258                      Ward, Miss. Anna\n",
      "679    Cardeza, Mr. Thomas Drake Martinez\n",
      "737                Lesurer, Mr. Gustave J\n",
      "Name: Name, dtype: object\n",
      "Ward, Miss. Anna\n",
      "Cardeza, Mr. Thomas Drake Martinez\n",
      "Lesurer, Mr. Gustave J\n"
     ]
    }
   ],
   "source": [
    "# 3. 1등급 승객 중 운임이 가장 높은 승객의 이름 출력\n",
    "\n",
    "print(df[(df['Pclass']==1)&(df['Fare']==max(df['Fare']))]['Name'])\n",
    "\n",
    "\n",
    "names = df[(df['Pclass']==1)&(df['Fare']==max(df['Fare']))]['Name']\n",
    "for name in names:\n",
    "    print(name)"
   ]
  },
  {
   "cell_type": "code",
   "execution_count": 167,
   "metadata": {},
   "outputs": [
    {
     "name": "stdout",
     "output_type": "stream",
     "text": [
      "314\n"
     ]
    }
   ],
   "source": [
    "# 4. 여성 승객의 수를 구하여 출력\n",
    "print(df[df['Sex']=='female']['Sex'].size)\n",
    "\n",
    "# print(len(df[df['Sex']=='female']))\n",
    "# print(df[df['Sex']=='female']['Sex'].count())"
   ]
  },
  {
   "cell_type": "code",
   "execution_count": 168,
   "metadata": {},
   "outputs": [
    {
     "name": "stdout",
     "output_type": "stream",
     "text": [
      "                                                  Name      Fare\n",
      "1    Cumings, Mrs. John Bradley (Florence Briggs Th...   71.2833\n",
      "3         Futrelle, Mrs. Jacques Heath (Lily May Peel)   53.1000\n",
      "6                              McCarthy, Mr. Timothy J   51.8625\n",
      "27                      Fortune, Mr. Charles Alexander  263.0000\n",
      "31      Spencer, Mrs. William Augustus (Marie Eugenie)  146.5208\n",
      "..                                                 ...       ...\n",
      "856         Wick, Mrs. George Dennick (Mary Hitchcock)  164.8667\n",
      "863                  Sage, Miss. Dorothy Edith \"Dolly\"   69.5500\n",
      "867               Roebling, Mr. Washington Augustus II   50.4958\n",
      "871   Beckwith, Mrs. Richard Leonard (Sallie Monypeny)   52.5542\n",
      "879      Potter, Mrs. Thomas Jr (Lily Alexenia Wilson)   83.1583\n",
      "\n",
      "[161 rows x 2 columns]\n"
     ]
    }
   ],
   "source": [
    "# 5. 운임이 50 이상인 승객의 이름과 운임 출력\n",
    "print(df[df['Fare']>=50][['Name','Fare']])"
   ]
  },
  {
   "cell_type": "code",
   "execution_count": 169,
   "metadata": {},
   "outputs": [
    {
     "name": "stdout",
     "output_type": "stream",
     "text": [
      "0.5398230088495575\n"
     ]
    }
   ],
   "source": [
    "# 6. 나이가 18세 미만인 승객들의 생존율을 계산하여 출력\n",
    "\n",
    "eighteen_nums = df[df['Age']<18]\n",
    "survived_num = df[(df['Age']<18) & (df['Survived']==1)]\n",
    "print(len(survived_num) / len(eighteen_nums))\n"
   ]
  },
  {
   "cell_type": "code",
   "execution_count": 170,
   "metadata": {},
   "outputs": [
    {
     "name": "stdout",
     "output_type": "stream",
     "text": [
      "20.662183152173913\n"
     ]
    }
   ],
   "source": [
    "# 7. 2등급 객실에 탑승한 승객의 평균 운임을 계산하여 출력\n",
    "\n",
    "print(np.mean(df[df['Pclass']==2]['Fare']))\n",
    "# print(df[df['Pclass']==2]['Fare'].mean())"
   ]
  },
  {
   "cell_type": "code",
   "execution_count": 171,
   "metadata": {},
   "outputs": [
    {
     "name": "stdout",
     "output_type": "stream",
     "text": [
      "      Age                                  Name\n",
      "630  80.0  Barkworth, Mr. Algernon Henry Wilson\n"
     ]
    }
   ],
   "source": [
    "# 8. 승객 중 나이가 가장 많은 사람의 나이와 이름을 출력\n",
    "\n",
    "print(df.sort_values(by='Age',ascending=False).head(1)[['Age','Name']])\n"
   ]
  },
  {
   "cell_type": "code",
   "execution_count": 172,
   "metadata": {},
   "outputs": [
    {
     "name": "stdout",
     "output_type": "stream",
     "text": [
      "644\n"
     ]
    }
   ],
   "source": [
    "# 9. S 항구에서 탑승한 승객의 수를 출력\n",
    "\n",
    "print(len(df[df['Embarked']=='S']))"
   ]
  },
  {
   "cell_type": "code",
   "execution_count": 173,
   "metadata": {},
   "outputs": [
    {
     "name": "stdout",
     "output_type": "stream",
     "text": [
      "119\n"
     ]
    }
   ],
   "source": [
    "# 10. 3등급 객실에 탑승한 남성 승객 중 생존자의 수를 출력\n",
    "\n",
    "print(len(df[(df['Pclass']==3)& (df['Survived']==1)]))"
   ]
  },
  {
   "cell_type": "markdown",
   "metadata": {},
   "source": [
    "- 고급문제"
   ]
  },
  {
   "cell_type": "code",
   "execution_count": 174,
   "metadata": {},
   "outputs": [
    {
     "name": "stdout",
     "output_type": "stream",
     "text": [
      "[생존자들] Pclass 1 : 35.36819672131148, Pclass 2 : 25.90156626506024, Pclass 3 : 20.646117647058823\n",
      "[사망자들] Pclass 1 : 43.6953125, Pclass 2 : 33.544444444444444, Pclass 3 : 26.555555555555557\n"
     ]
    }
   ],
   "source": [
    "# 1. 생존자(Survived)와 그렇지 않은 사람들의 `Pclass`(객실 등급)별 평균 나이를 각각 출력\n",
    "\n",
    "survival = df[df['Survived']==1].groupby('Pclass')['Age'].mean()\n",
    "death = df[df['Survived']==0].groupby('Pclass')['Age'].mean()\n",
    "\n",
    "print(f'[생존자들] Pclass 1 : {survival.values[0]}, Pclass 2 : {survival.values[1]}, Pclass 3 : {survival.values[2]}')\n",
    "print(f'[사망자들] Pclass 1 : {death.values[0]}, Pclass 2 : {death.values[1]}, Pclass 3 : {death.values[2]}')\n",
    "# print(survival, death)"
   ]
  },
  {
   "cell_type": "code",
   "execution_count": 175,
   "metadata": {},
   "outputs": [
    {
     "name": "stdout",
     "output_type": "stream",
     "text": [
      "                               Name   Age\n",
      "27   Fortune, Mr. Charles Alexander  19.0\n",
      "88       Fortune, Miss. Mabel Helen  23.0\n",
      "341  Fortune, Miss. Alice Elizabeth  24.0\n",
      "159      Sage, Master. Thomas Henry   NaN\n",
      "180    Sage, Miss. Constance Gladys   NaN\n"
     ]
    }
   ],
   "source": [
    "# 2. `SibSp`(형제/배우자 수)가 3 이상인 승객들 중에서, `Fare`(운임) 상위 5명의 이름과 나이를 출력\n",
    "\n",
    "siblings = df[df['SibSp']>=3]\n",
    "print(siblings.sort_values(by='Fare',ascending= False).head(5)[['Name','Age']])"
   ]
  },
  {
   "cell_type": "code",
   "execution_count": 176,
   "metadata": {},
   "outputs": [
    {
     "data": {
      "text/html": [
       "<div>\n",
       "<style scoped>\n",
       "    .dataframe tbody tr th:only-of-type {\n",
       "        vertical-align: middle;\n",
       "    }\n",
       "\n",
       "    .dataframe tbody tr th {\n",
       "        vertical-align: top;\n",
       "    }\n",
       "\n",
       "    .dataframe thead th {\n",
       "        text-align: right;\n",
       "    }\n",
       "</style>\n",
       "<table border=\"1\" class=\"dataframe\">\n",
       "  <thead>\n",
       "    <tr style=\"text-align: right;\">\n",
       "      <th></th>\n",
       "      <th>PassengerId</th>\n",
       "      <th>Survived</th>\n",
       "      <th>Pclass</th>\n",
       "      <th>Name</th>\n",
       "      <th>Sex</th>\n",
       "      <th>Age</th>\n",
       "      <th>SibSp</th>\n",
       "      <th>Parch</th>\n",
       "      <th>Ticket</th>\n",
       "      <th>Fare</th>\n",
       "      <th>Cabin</th>\n",
       "    </tr>\n",
       "    <tr>\n",
       "      <th>Embarked</th>\n",
       "      <th></th>\n",
       "      <th></th>\n",
       "      <th></th>\n",
       "      <th></th>\n",
       "      <th></th>\n",
       "      <th></th>\n",
       "      <th></th>\n",
       "      <th></th>\n",
       "      <th></th>\n",
       "      <th></th>\n",
       "      <th></th>\n",
       "    </tr>\n",
       "  </thead>\n",
       "  <tbody>\n",
       "    <tr>\n",
       "      <th>C</th>\n",
       "      <td>38</td>\n",
       "      <td>38</td>\n",
       "      <td>38</td>\n",
       "      <td>38</td>\n",
       "      <td>38</td>\n",
       "      <td>38</td>\n",
       "      <td>38</td>\n",
       "      <td>38</td>\n",
       "      <td>38</td>\n",
       "      <td>38</td>\n",
       "      <td>4</td>\n",
       "    </tr>\n",
       "    <tr>\n",
       "      <th>Q</th>\n",
       "      <td>49</td>\n",
       "      <td>49</td>\n",
       "      <td>49</td>\n",
       "      <td>49</td>\n",
       "      <td>49</td>\n",
       "      <td>49</td>\n",
       "      <td>49</td>\n",
       "      <td>49</td>\n",
       "      <td>49</td>\n",
       "      <td>49</td>\n",
       "      <td>2</td>\n",
       "    </tr>\n",
       "    <tr>\n",
       "      <th>S</th>\n",
       "      <td>90</td>\n",
       "      <td>90</td>\n",
       "      <td>90</td>\n",
       "      <td>90</td>\n",
       "      <td>90</td>\n",
       "      <td>90</td>\n",
       "      <td>90</td>\n",
       "      <td>90</td>\n",
       "      <td>90</td>\n",
       "      <td>90</td>\n",
       "      <td>13</td>\n",
       "    </tr>\n",
       "  </tbody>\n",
       "</table>\n",
       "</div>"
      ],
      "text/plain": [
       "          PassengerId  Survived  Pclass  Name  Sex  Age  SibSp  Parch  Ticket  \\\n",
       "Embarked                                                                        \n",
       "C                  38        38      38    38   38   38     38     38      38   \n",
       "Q                  49        49      49    49   49   49     49     49      49   \n",
       "S                  90        90      90    90   90   90     90     90      90   \n",
       "\n",
       "          Fare  Cabin  \n",
       "Embarked               \n",
       "C           38      4  \n",
       "Q           49      2  \n",
       "S           90     13  "
      ]
     },
     "metadata": {},
     "output_type": "display_data"
    }
   ],
   "source": [
    "# 3. 승객 중에서 `Age` 값이 결측치(NaN)인 사람들의 `Embarked`(탑승 항구)별 분포를 출력\n",
    "import matplotlib.pyplot as plt\n",
    "df1= pd.DataFrame(data)\n",
    "df1['Age']= df1['Age'].fillna(0)\n",
    "display(df1[df1['Age']==0].groupby(by='Embarked').count())\n",
    "# 히스토그램으로 출력\n"
   ]
  },
  {
   "cell_type": "code",
   "execution_count": 177,
   "metadata": {},
   "outputs": [
    {
     "name": "stdout",
     "output_type": "stream",
     "text": [
      "                                     Name     Sex  Survived\n",
      "14   Vestrom, Miss. Hulda Amanda Adolfina  female         0\n",
      "22            McGowan, Miss. Anna \"Annie\"  female         1\n",
      "731              Hassan, Mr. Houssein G N    male         0\n",
      "777         Emanuel, Miss. Virginia Ethel  female         1\n",
      "780                  Ayoub, Miss. Banoura  female         1\n",
      "875      Najib, Miss. Adele Kiamie \"Jane\"  female         1\n"
     ]
    }
   ],
   "source": [
    "# 4. 나이가 16세 미만이고, 혼자 탑승한(`SibSp == 0` and `Parch == 0`) 승객의 이름과 성별, 생존 여부를 출력\n",
    "\n",
    "print(df[(df['Age']<16) & (df['SibSp'] == 0 ) & (df['Parch']== 0)][['Name','Sex','Survived']])"
   ]
  },
  {
   "cell_type": "code",
   "execution_count": 178,
   "metadata": {},
   "outputs": [
    {
     "name": "stdout",
     "output_type": "stream",
     "text": [
      "                                                  Name   Age      Fare\n",
      "1    Cumings, Mrs. John Bradley (Florence Briggs Th...  38.0   71.2833\n",
      "3         Futrelle, Mrs. Jacques Heath (Lily May Peel)  35.0   53.1000\n",
      "6                              McCarthy, Mr. Timothy J  54.0   51.8625\n",
      "23                        Sloper, Mr. William Thompson  28.0   35.5000\n",
      "27                      Fortune, Mr. Charles Alexander  19.0  263.0000\n",
      "..                                                 ...   ...       ...\n",
      "853                          Lines, Miss. Mary Conover  16.0   39.4000\n",
      "856         Wick, Mrs. George Dennick (Mary Hitchcock)  45.0  164.8667\n",
      "867               Roebling, Mr. Washington Augustus II  31.0   50.4958\n",
      "871   Beckwith, Mrs. Richard Leonard (Sallie Monypeny)  47.0   52.5542\n",
      "879      Potter, Mrs. Thomas Jr (Lily Alexenia Wilson)  56.0   83.1583\n",
      "\n",
      "[159 rows x 3 columns]\n"
     ]
    }
   ],
   "source": [
    "# 5. 1등급(Pclass == 1) 객실에 탑승한 승객들 중에서, 운임(Fare)이 평균보다 높은 사람들의 이름과 나이, 운임을 출력\n",
    "\n",
    "print(df[(df['Pclass']==1) & ( df['Fare']> df['Fare'].mean())][['Name','Age','Fare']])"
   ]
  },
  {
   "cell_type": "code",
   "execution_count": 179,
   "metadata": {},
   "outputs": [
    {
     "name": "stdout",
     "output_type": "stream",
     "text": [
      "             Fare         \n",
      "             mean   median\n",
      "Pclass                    \n",
      "1       87.961582  69.3000\n",
      "2       21.471556  15.0458\n",
      "3       13.229435   8.0500\n"
     ]
    }
   ],
   "source": [
    "# 6. 나이(Age), 객실 등급(Pclass), 운임(Fare) 값에 결측치가 없는 승객들만 대상으로, 각 등급별 평균 운임과 중앙값 운임을 출력\n",
    "\n",
    "df1= df[['Age','Pclass','Fare']].dropna(axis=0).reset_index(drop=True)\n",
    "result = df1.groupby('Pclass').agg({\n",
    "    'Fare': ['mean','median']\n",
    "})\n",
    "print(result)"
   ]
  },
  {
   "cell_type": "code",
   "execution_count": 310,
   "metadata": {},
   "outputs": [
    {
     "name": "stdout",
     "output_type": "stream",
     "text": [
      "Embarked\n",
      "C    30.814769\n",
      "Q    28.089286\n",
      "S    29.445397\n",
      "Name: Age, dtype: float64\n",
      "0.5535714285714286\n"
     ]
    }
   ],
   "source": [
    "# 7. 승객들의 `Embarked` 별 평균 나이를 계산하고, 가장 많은 승객이 탑승한 항구를 기준으로 생존율을 계산하여 출력\n",
    "\n",
    "# 평균 나이\n",
    "print(df.groupby('Embarked')['Age'].mean())\n",
    "\n",
    "#가장 많은 승객이 탑승한 항구 생존율 계산\n",
    "idx = df.groupby('Embarked')['Age'].mean().argsort()[::-1].min()\n",
    "print(len(df[(df['Embarked']=='C') & (df['Survived']==1)]) / len(df[df['Embarked']=='C']))"
   ]
  },
  {
   "cell_type": "code",
   "execution_count": 189,
   "metadata": {},
   "outputs": [
    {
     "name": "stdout",
     "output_type": "stream",
     "text": [
      "0.8070175438596491\n"
     ]
    }
   ],
   "source": [
    "# 8. 승객 중에서 여성(`Sex == 'female'`)이면서 30세 이상인 사람들의 생존율을 계산하여 출력\n",
    "\n",
    "base = df[(df['Sex']=='female') & (df['Age']>=30)]\n",
    "base_num = len(base)\n",
    "print(len(base[base['Survived']==1])/ base_num)\n"
   ]
  },
  {
   "cell_type": "code",
   "execution_count": null,
   "metadata": {},
   "outputs": [
    {
     "name": "stdout",
     "output_type": "stream",
     "text": [
      "0.34065934065934067\n"
     ]
    }
   ],
   "source": [
    "# 9. 동반한 형제 또는 배우자 수(`SibSp`)와 부모 또는 자녀 수(`Parch`)의 합이 3 이상인 승객들만을 대상으로, 그들의 생존율을 계산하여 출력\n",
    "\n",
    "df_SP = df.copy()\n",
    "df_SP['Sum'] = df_SP[['SibSp','Parch']].sum(axis=1)   # 합계를 따로 Sum 으로 저장\n",
    "\n",
    "print( len(df_SP[(df_SP['Sum']>=3) & (df_SP['Survived']==1)])/ len(df_SP[df_SP['Sum']>=3]))"
   ]
  },
  {
   "cell_type": "code",
   "execution_count": 301,
   "metadata": {},
   "outputs": [
    {
     "name": "stdout",
     "output_type": "stream",
     "text": [
      "객실 등급 1 생존율 : 0.6647727272727273\n",
      "객실 등급 2 생존율 : 0.8125\n",
      "객실 등급 3 생존율 : 0.5\n"
     ]
    }
   ],
   "source": [
    "# 10. `Cabin`(객실 번호) 정보가 있는 승객들만을 대상으로, 그들의 생존율을 객실 등급별로 구분하여 계산하여 출력\n",
    "\n",
    "import numpy as np\n",
    "df10= pd.DataFrame(data)\n",
    "df10 =  df10[['Cabin','Survived','Pclass']].dropna()\n",
    "result = df10.groupby(['Pclass','Survived']).count().values.reshape(3,2)\n",
    "\n",
    "for idx,x in enumerate(result):\n",
    "    print(f'객실 등급 {idx+1} 생존율 : {x[1] / (x[0]+x[1])}')"
   ]
  }
 ],
 "metadata": {
  "kernelspec": {
   "display_name": "pystudy_env",
   "language": "python",
   "name": "python3"
  },
  "language_info": {
   "codemirror_mode": {
    "name": "ipython",
    "version": 3
   },
   "file_extension": ".py",
   "mimetype": "text/x-python",
   "name": "python",
   "nbconvert_exporter": "python",
   "pygments_lexer": "ipython3",
   "version": "3.12.11"
  }
 },
 "nbformat": 4,
 "nbformat_minor": 2
}
